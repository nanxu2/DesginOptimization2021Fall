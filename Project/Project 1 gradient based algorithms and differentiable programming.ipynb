{
 "cells": [
  {
   "cell_type": "markdown",
   "id": "attempted-merchandise",
   "metadata": {
    "pycharm": {
     "name": "#%% md\n"
    }
   },
   "source": [
    "# Project 1: Gradient-based Algorithms and Differentiable Programming\n",
    "#### Nan Xu, 1209038268\n",
    "\n",
    "## 1. Problem Formulation\n",
    "For a 2D case of rocket landing problem, we have the following states: <br />\n",
    "$\n",
    "\\begin{aligned}\n",
    "x(t) = \\begin{bmatrix} x_1(t) & x_2(t) & \\dot{x}_1(t) & \\dot{x}_2(t) \\end{bmatrix}\n",
    "\\end{aligned}\n",
    "$ <br />\n",
    "where $x_1$ and $x_2$ indicates the horizontal and vertical coordinates with the landing position as origin.<br />\n",
    "With input of $a(t) = \\begin{bmatrix} a_1(t) & a_2(t) \\end{bmatrix}$, we can formulate the following dynamic systems:<br />\n",
    "$x_1(t+1) = x_1(t) + \\dot{x}_1\\Delta t$<br />\n",
    "$x_1(t+1) = x_1(t) + \\dot{x}_1\\Delta t$<br />\n",
    "$\\dot{x}_1(t+1) = \\dot{x}_1(t) + a_1(t)\\Delta t$<br />\n",
    "$\\dot{x}_2(t+1) = \\dot{x}_2(t) + a_2(t)\\Delta t$<br />\n",
    "where $\\Delta t$ is a time interval. For a closed-loop controller be:<br />\n",
    "$a(t)=f_{\\theta}(x(t))+D(t)+G$\n",
    "\n",
    "where $f_{\\theta}(\\cdot)$ is a neural network with parameters $\\theta$, $D$ is the drag force ratio which is defined by $D(t)=\\begin{bmatrix}-c_d\\dot{x}_1^2(t) & -c_d\\dot{x}_2^2(t) \\end{bmatrix}$ with a constant drag coefficient $c_d$ and\n",
    "$G$ is the gravitational force ratio defined as $G = \\begin{bmatrix}0 & -g \\end{bmatrix}$.\n",
    "For each time step, we assign a loss as a function of the control input and the state: $l(x(t),a(t))$. <br />\n",
    "In this example, we will simply set $l(x(t),a(t))=0$ for all\n",
    "$t=1,...,T-1$, where $T$ is the final time step, and <br />\n",
    "$l(x(T), a(T))=||x(T)||^2$ <br />\n",
    "For the proper landing conditions, we have the following state: <br />\n",
    "$x=\\begin{bmatrix}x_1(T) & x_2(T) & \\dot{x}_1(T) & \\dot{x}_2(T) \\end{bmatrix} = \\begin{bmatrix} 0 & 0 & 0 & 0\\end{bmatrix}$ <br />\n",
    "Also, we can add randomness on the initial conditions such as:\n",
    "$ X_0 = \\begin{bmatrix}X_1(T_0) + Z_1 & X_2(T_0) + Z_2 \\end{bmatrix} $ <br />\n",
    "where $Z_1 \\sim N(0,\\sigma)$ and $Z_2 \\sim N(0, \\sigma)$ <br />\n",
    "Hence, we have the following optimization problem: <br />\n",
    "$min_{\\theta} \\frac{1}{N}\\Sigma_{i=1}^{N}||x^{(i)}(T)||^2$ <br />\n",
    "$x_1^{(i)}(t+1) = x_1^{(i)}(t) + \\dot{x}^{(i)}_1\\Delta t$<br />\n",
    "$x_1^{(i)}(t+1) = x_1^{(i)}(t) + \\dot{x}^{(i)}_1\\Delta t$<br />\n",
    "$\\dot{x}_1^{(i)}(t+1) = \\dot{x}^{(i)}_1(t) + a^{(i)}_1(t)\\Delta t$<br />\n",
    "$\\dot{x}_2^{(i)}(t+1) = \\dot{x}^{(i)}_2(t) + a^{(i)}_2(t)\\Delta t$<br />\n",
    "$a^{(i)}(t)=f(x^{(i)}(t))+D^{(i)}(t)+g$ <br />\n",
    "$D^{(i)}(t)=\\begin{bmatrix} -c_d(x^{(i)}_1(t))^2 & -c_d(x^{(i)}_2(t))^2\\end{bmatrix}$ <br />\n",
    "$x_1^{0}=x_1(1)+Z_1$<br />\n",
    "$x_2^{0}=x_2(1)+Z_2$<br />\n",
    "where $x_1(1)$ and $x_2(1)$ are known, $Z_1 \\sim N(0,\\sigma)$ and $Z_2 \\sim N(0, \\sigma)$. <br />"
   ]
  }
 ],
 "metadata": {
  "kernelspec": {
   "display_name": "Python 3",
   "language": "python",
   "name": "python3"
  },
  "language_info": {
   "codemirror_mode": {
    "name": "ipython",
    "version": 3
   },
   "file_extension": ".py",
   "mimetype": "text/x-python",
   "name": "python",
   "nbconvert_exporter": "python",
   "pygments_lexer": "ipython3",
   "version": "3.7.3"
  }
 },
 "nbformat": 4,
 "nbformat_minor": 5
}