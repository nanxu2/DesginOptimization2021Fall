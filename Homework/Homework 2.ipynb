{
 "cells": [
  {
   "cell_type": "markdown",
   "id": "touched-logic",
   "metadata": {},
   "source": [
    "# Theory/Computation Problems\n",
    "\n",
    "### Problem 1 (20 points) \n",
    "Show that the stationary point (zero gradient) of the function\n",
    "$$\n",
    "\\begin{aligned}\n",
    "    f=2x_{1}^{2} - 4x_1 x_2+ 1.5x^{2}_{2}+ x_2\n",
    "\\end{aligned}\n",
    "$$\n",
    "is a saddle (with indefinite Hessian). Find the directions of downslopes away from the saddle. Hint: Use Taylor's expansion at the saddle point. Find directions that reduce $f$. <br />\n",
    "\n",
    "### Answer:\n",
    "#### a.\n",
    "We can first find the Hessian of $f$: <br />\n",
    "$g = \\begin{bmatrix} \\frac{\\partial f}{\\partial x_1} \\\\ \\frac{\\partial f}{\\partial x_2} \\end{bmatrix} =\\begin{bmatrix}4x_1-4x_2 \\\\ -4x_1 +3x_2 + 1 \\end{bmatrix}$ <br />\n",
    "$H = \\begin{bmatrix} \\frac{\\partial^2f}{\\partial x_1^2} & \\frac{\\partial^2f}{\\partial x_1x_2} \\\\ \\frac{\\partial^2 f}{\\partial x_2 x_1} & \\frac{\\partial^2f}{\\partial x_2^2}\\end{bmatrix} = \\begin{bmatrix} 4 & -4 \\\\ -4 & 3 \\end{bmatrix}$ <br />\n",
    "The eigenvalues of $H$ are 7.531 and -0.531 obtained by following code, therefore, the Hessian matrix is indefinite (as $\\lambda_1 > 0 $ and $\\lambda_2 <0$)"
   ]
  },
  {
   "cell_type": "code",
   "execution_count": 17,
   "outputs": [
    {
     "name": "stdout",
     "output_type": "stream",
     "text": [
      "[ 7.53112887 -0.53112887]\n"
     ]
    }
   ],
   "source": [
    "import numpy as np\n",
    "A = np.array([[4.,-4.0],[-4.0, 3.0]])\n",
    "eigv, _ = np.linalg.eig(A)\n",
    "print(eigv)"
   ],
   "metadata": {
    "collapsed": false,
    "pycharm": {
     "name": "#%%\n"
    }
   }
  },
  {
   "cell_type": "markdown",
   "source": [
    "Since we have $\\lambda_1 > 0$ and $\\lambda_2<0$, the Hessian matrix is indefinite, therefore the stationary point is a saddle.\n",
    "\n",
    "#### b.\n",
    "For stationary point, we have $\\nabla f(x)=0 \\rightarrow g(x1, x_2)=\\begin{bmatrix}4x_1-4x_2 \\\\ -4x_1 +3x_2 + 1 \\end{bmatrix} = 0$, therefore the stationary point $s_p=(1,1)$. <br />\n",
    "For Taylor expansion about the stationary point, we have:<br />\n",
    "$f(x) = 0.5 + \\frac{1}{2}\\begin{bmatrix} x_1 - 1 \\\\ x_2 -1\\end{bmatrix}\\begin{bmatrix}4 & -4 \\\\ -4 & 3\\end{bmatrix}\\begin{bmatrix} x_1-1 & x_2-1 \\end{bmatrix}$ <br />\n",
    "where $\\frac{1}{2}\\begin{bmatrix} x_1 - 1 \\\\ x_2 -1\\end{bmatrix}\\begin{bmatrix}4 & -4 \\\\ -4 & 3\\end{bmatrix}\\begin{bmatrix} x_1-1 & x_2-1 \\end{bmatrix} = (2x_1-3x_2+1)(2x_1-x_2-1)<0$ <br />\n",
    "To satisfy this, we must have following for the downslopes:<br />\n",
    "$\\forall x_1, x_2: 2x_1-3x_2 < -1$ and $2x_1 - x_2 > 1$\n",
    "\n",
    "### Problem 2 (50 points)\n",
    "\n",
    "* (10 points) Find the point in the plane $x_1+2x_2+3x_3=1$ in $\\mathbb{R}^3$ that is nearest to the point $(-1,0,1)^T$. Is this a convex problem? Hint: Convert the problem into an unconstrained problem using $x_1+2x_2+3x_3=1$.\n",
    "#### a.\n",
    "To find the $x \\in \\mathcal{R}^3$ nearest to $(-1, 0, 1)^T$, we have following object function <br />\n",
    "$min_{x_1,x_2,x_3}{(x_1+1)^2+x_2^2+(x_3-1)^2}$ <br />\n",
    "s.t $x_1+2x_2+3x_3=1$ <br />\n",
    "To simplify the object function, we can replace $x_1$ by $1-2x_2-3x_3$:<br />\n",
    "$min_{x_2,x_3}{(2-2x_2-3x_3)^2+x_2^2+(x_3-1)^2}$ <br />\n",
    "We have $\\nabla f = \\begin{bmatrix} -8+10x_2+12x_3 \\\\  -14 + 12x_2 +20x_3\\end{bmatrix}$ <br />\n",
    "The Hessian matrix: <br />\n",
    "$H = \\begin{bmatrix} 10 & 12 \\\\ 12 & 20 \\end{bmatrix}$ with eigenvalues $\\lambda_1 =2$ and $\\lambda_2=20$, which is positive define.\n",
    "Therefore the stationary point is the local minimum, so the nearest point is when $\\nabla f = 0$, which is following:<br />\n",
    "$\\begin{bmatrix}x_1 \\\\ x_2 \\\\x_3 \\end{bmatrix} = \\begin{bmatrix} -1.0715\\\\ -0.1428 \\\\ 0.7857\\end{bmatrix}$\n",
    "* (40 points) Implement the gradient descent and Newton's algorithm for solving the problem. Attach your codes along with a short summary including (1) the initial points tested, (2) corresponding solutions, (3) a log-linear convergence plot.\n",
    "\n",
    "#### b. Part 1  gradient descent methods"
   ],
   "metadata": {
    "collapsed": false
   }
  },
  {
   "cell_type": "code",
   "execution_count": 1,
   "outputs": [
    {
     "name": "stdout",
     "output_type": "stream",
     "text": [
      "x_1:-1.0715,x_2:-0.1428,x_3:0.7857\n"
     ]
    },
    {
     "data": {
      "text/plain": "<Figure size 432x288 with 1 Axes>",
      "image/png": "[encoded data removed]"
     },
     "metadata": {
      "needs_background": "light"
     },
     "output_type": "display_data"
    }
   ],
   "source": [
    "import numpy as np\n",
    "from matplotlib import pyplot as plt\n",
    "fun_grad = lambda x: np.array([-8 + 10*x[0] + 12*x[1], -14+12*x[0]+20*x[1]])\n",
    "fun_obj = lambda x: ((1-2*x[0]-3*x[1])+1)**2 + (x[0])**2 + (x[1]-1)**2\n",
    "x = np.array([1, 1]) # initial guess\n",
    "x_ = np.array([-0.1428,  0.7857])\n",
    "\n",
    "epsilon = 100\n",
    "diff_l = []\n",
    "diff = 100\n",
    "\n",
    "def amijo(x):\n",
    "    a = 1\n",
    "    while fun_obj(x-a*fun_grad(x)) > fun_obj(x)-a*(0.5)*np.matmul(fun_grad(x), fun_grad(x)):\n",
    "        a=.5*a\n",
    "    return a\n",
    "\n",
    "while diff > 0.0001:\n",
    "\n",
    "    a = amijo(x)\n",
    "    x = x - a * fun_grad(x)\n",
    "    diff = abs(fun_obj(x) - fun_obj(x_))\n",
    "    diff_l.append(diff)\n",
    "\n",
    "plt.plot(diff_l)\n",
    "plt.yscale(\"log\")\n",
    "print('x_1:{},x_2:{},x_3:{}'.format(1-2*x_[0]-3*x_[1], x_[0], x_[1]))"
   ],
   "metadata": {
    "collapsed": false,
    "pycharm": {
     "name": "#%%\n"
    }
   }
  },
  {
   "cell_type": "markdown",
   "source": [
    "The initial point is $[1,1]$ and the corresponding solution is $\\begin{bmatrix}x_1 \\\\ x_2 \\\\x_3 \\end{bmatrix} = \\begin{bmatrix} -1.0715\\\\ -0.1428 \\\\ 0.7857\\end{bmatrix}$\n",
    "#### b. Part 2  Newton's algorithm"
   ],
   "metadata": {
    "collapsed": false
   }
  },
  {
   "cell_type": "code",
   "execution_count": 2,
   "outputs": [
    {
     "name": "stdout",
     "output_type": "stream",
     "text": [
      "x_1:-1.0715,x_2:-0.1428,x_3:0.7857\n"
     ]
    },
    {
     "data": {
      "text/plain": "<Figure size 432x288 with 1 Axes>",
      "image/png": "[encoded data removed]"
     },
     "metadata": {
      "needs_background": "light"
     },
     "output_type": "display_data"
    }
   ],
   "source": [
    "from matplotlib import pyplot as plt\n",
    "import numpy as np\n",
    "H = np.array([[10,12],[12,20]])\n",
    "fun_grad = lambda x: np.array([-8 + 10*x[0]+12*x[1], -14+12*x[0] + 20*x[1]])\n",
    "fun_obj = lambda x: ((1 - 2*x[0] - 3*x[1]) + 1)**2 + (x[0])**2 + (x[1] - 1)**2\n",
    "x = np.array([1, 1]) # initial guess\n",
    "x_ = np.array([-0.1428,  0.7857])\n",
    "\n",
    "epsilon = 100\n",
    "diff_l = []\n",
    "diff = 100\n",
    "\n",
    "def amijo(x):\n",
    "    a = 1\n",
    "    while fun_obj(x - a*fun_obj(x)) > fun_obj(x)-a*(0.5)*np.matmul(fun_grad(x), np.matmul(np.linalg.inv(H), fun_grad(x))):\n",
    "        a = 0.5*a\n",
    "    return a\n",
    "\n",
    "while diff > 0.0001:\n",
    "\n",
    "    a = amijo(x)\n",
    "    x = x-a*np.matmul(np.linalg.inv(H), fun_grad(x))\n",
    "    diff = abs(fun_obj(x) - fun_obj(x_))\n",
    "    diff_l.append(diff)\n",
    "\n",
    "plt.plot(diff_l)\n",
    "plt.yscale(\"log\")\n",
    "print('x_1:{},x_2:{},x_3:{}'.format(1-2*x_[0]-3*x_[1], x_[0], x_[1]))"
   ],
   "metadata": {
    "collapsed": false,
    "pycharm": {
     "name": "#%%\n"
    }
   }
  },
  {
   "cell_type": "markdown",
   "source": [
    "The initial point is $[1,1]$ and the corresponding solution is $\\begin{bmatrix}x_1 \\\\ x_2 \\\\x_3 \\end{bmatrix} = \\begin{bmatrix} -1.0715\\\\ -0.1428 \\\\ 0.7857\\end{bmatrix}$\n",
    "\n",
    "### Problem 3 (10 points) \n",
    "Let $f(x)$ and $g(x)$ be two convex functions defined on the convex set $\\mathcal{X}$. \n",
    "* (5 points) Prove that $af(x)+bg(x)$ is convex for $a>0$ and $b>0$. \n",
    "#### a.\n",
    "Let $x = \\lambda x_1 + (1-\\lambda)x_2$ and $F(x)=af(x)+bg(x)$, if $F(x)$ is convex function, we have <br />\n",
    "$F(\\lambda_1 x_1 +(1-\\lambda_1)x_2) \\leq \\lambda_1 F(x_1)+(1-\\lambda_1)F(x_2)$ <br />\n",
    "$af(\\lambda_1 x_1 +(1-\\lambda_1)x_2) + bg(\\lambda_1 x_1 +(1-\\lambda_1)x_2) \\leq a\\lambda_1 f(x1) + b \\lambda_1 g(x_1) + a(1-\\lambda_1) f(x2) + b (1-\\lambda_1) g(x_2) $\n",
    "Since f(x) and g(x) is convex function, therefore it's always true that<br />\n",
    "$f(\\lambda_1 x_1 +(1-\\lambda_1)x_2) \\leq \\lambda_1 f(x1) + (1-\\lambda_1) f(x2)$ and <br />\n",
    "$g(\\lambda_1 x_1 +(1-\\lambda_1)x_2) \\leq \\lambda_1 g(x1) + (1-\\lambda_1) g(x2)$ <br/>\n",
    "Since $a > 0$ and $b > 0$, we have following meets: <br />\n",
    "$af(\\lambda_1 x_1 +(1-\\lambda_1)x_2) \\leq a\\lambda_1 f(x1) + a(1-\\lambda_1) f(x2)$ and <br />\n",
    "$bg(\\lambda_1 x_1 +(1-\\lambda_1)x_2) \\leq b\\lambda_1 g(x1) + b(1-\\lambda_1) g(x2)$ <br/>\n",
    "Hence it is always true that: <br />\n",
    "$af(\\lambda_1 x_1 +(1-\\lambda_1)x_2) + bg(\\lambda_1 x_1 +(1-\\lambda_1)x_2) \\leq a\\lambda_1 f(x1) + b \\lambda_1 g(x_1) + a(1-\\lambda_1) f(x2) + b (1-\\lambda_1) g(x_2) $ <br />\n",
    "Therefore $F(x)$ is convex function, which means $af(x)+bg(x)$ is convex for $a>0$ and $b>0$.\n",
    "\n",
    "* (5 points) In what conditions will $f(g(x))$ be convex?\n",
    "#### b.\n",
    "If g(x) is convex, we have: <br />\n",
    "$g(\\lambda x_1 + (1-\\lambda)x_2) \\leq \\lambda g(x_1) + (1 - \\lambda)g(x_2)$ <br />\n",
    "If $f(x)$ is non-decreasing, we have: <br />\n",
    "$f(g(\\lambda x_1 + (1-\\lambda)x_2)) \\leq f(\\lambda g(x_1) + (1 - \\lambda)g(x_2))$ <br />\n",
    "where $f(\\lambda g(x_1) + (1 - \\lambda)g(x_2)) \\leq \\lambda f(g(x_1)) + (1 - \\lambda)f(g(x_2))$,<br />\n",
    "Hence we have $f(g(x))$ is convex when $g(x)$ is convex and $f(x)$ is non-decreasing\n",
    "\n",
    "### Problem 4 (bonus 10 points)\n",
    "Show that $f({\\bf x}_1) \\geq f(\\textbf{x}_0) +\\textbf{g}_{\\textbf{x}_0}^T(\\textbf{x}_1-\\textbf{x}_0)$ for a convex function $f(\\textbf{x}): \\mathcal{X} \\rightarrow \\mathbb{R}$ and for $\\textbf{x}_0$, $\\textbf{x}_1 \\in \\mathcal{X}$."
   ],
   "metadata": {
    "collapsed": false
   }
  },
  {
   "cell_type": "markdown",
   "id": "collected-carbon",
   "metadata": {},
   "source": [
    "Since $f(x)$ is a convex function, we have:<br />\n",
    "$f(x+t(y-x)) \\leq (1-t)f(x)+tf(y)$, divide $t$ for both sides we have: <br />\n",
    "$f(y) \\geq \\frac{f(x+t(y-x))-(1-t)f(x)}{t}$ for a sufficient small $t$ we have: <br />\n",
    "$f(y) \\geq \\frac{f(x+t(y-x))-f(x)}{t}$ and we can get following when $t \\rightarrow 0$:<br />\n",
    "$f(y) \\geq f(x) + f'(x)(x - y)$ <br />\n",
    "Let $y = x_1$ and $y = x_0$, we have: <br />\n",
    "$f(x_1) \\geq f(x_0) + g^T_{x_0}(x_1 - x_0)$\n",
    "# Design Problems\n",
    "\n",
    "### Problem 5 (20 points) \n",
    "Consider an illumination problem: There are $n$ lamps and $m$ mirrors fixed to the ground. The target reflection intensity level is $I_t$. The actual reflection intensity level on the $k$th mirror can be computed as $\\textbf{a}_k^T \\textbf{p}$, where $\\textbf{a}_k$ is given by the distances between all lamps to the mirror, and $\\textbf{p}:=[p_1,...,p_n]^T$ are the power output of the lamps. The objective is to keep the actual intensity levels as close to the target as possible by tuning the power output $\\textbf{p}$.\n",
    "* (5 points) Formulate this problem as an optimization problem.\n",
    "#### a.\n",
    "The reflection is: <br />\n",
    "$I_k = a_k^Tp$ <br />\n",
    "The we can form the objective function as <br />\n",
    "$min_p\\Sigma_{k=1}^n(a_k^Tp-I_t)^2$\n",
    "* (5 points) Is your problem convex?\n",
    "#### b.\n",
    "The objective function is: <br />\n",
    "$\\Sigma_{k=1}^{n}(a_k^Tp-I)^2=\\Sigma_{k=1}^{n}((a_k^Tp)^2-2I_ta_k^Tp+I_t^2)$ <br />\n",
    "Therefore, we can find the corresponding Hessian matrix is $H=\\Sigma_{k=1}^n2a_ka_k^T$ <br />\n",
    "Let multiply a unit vector $d\\in \\mathcal{R}^n$ for the Hessian matrix, we have: <br />\n",
    "$d^THd=\\Sigma 2d^Ta_ka_k^Td$ <br />\n",
    "If $d^Ta_k=a_k^Td=u_k$, we have: <br />\n",
    "$d^THd=\\Sigma 2u_k^2 \\leq 0$ <br />\n",
    "Since $d^THd \\geq \\lambda_{min} = 0$, therefore $H$ is positive semidefinite.\n",
    "Hence the problem is convex.\n",
    "* (5 points) If we require the overall power output of any of the $n$ lamps to be l,.ess than $p^*$, will the problem have a unique solution?\n",
    "#### c.\n",
    "The new constrain $\\Sigma_i p_i < p^{*}$ is a linear constraint, which is a convex.\n",
    "If the objective function is strictly convex, then it will have a unique solution. <br />\n",
    "If the objective function is strictly convex, therefore we have Hessian matrix $H$ is postive definite, which inidicates that <br />\n",
    "$\\Sigma 2u_k^2 >0$ <br />\n",
    "And $d^Ta_k > 0$, which means $a_k$ has a trivial null spaces. <br />\n",
    "Therefore it must be $m  > n$ to make a positive definite Hessian matrix, the objective function is strictly convex.\n",
    "* (5 points) If we require no more than half of the lamps to be switched on, will the problem have a unique solution?\n",
    "#### d.\n",
    "No, the problem will not have a unique solution because the solution space is the intersection of multiple line segments which is not convex anymore."
   ]
  },
  {
   "cell_type": "markdown",
   "id": "moderate-twins",
   "metadata": {
    "pycharm": {
     "name": "#%% md"
    }
   },
   "source": []
  }
 ],
 "metadata": {
  "kernelspec": {
   "display_name": "Python 3",
   "language": "python",
   "name": "python3"
  },
  "language_info": {
   "codemirror_mode": {
    "name": "ipython",
    "version": 3
   },
   "file_extension": ".py",
   "mimetype": "text/x-python",
   "name": "python",
   "nbconvert_exporter": "python",
   "pygments_lexer": "ipython3",
   "version": "3.7.3"
  }
 },
 "nbformat": 4,
 "nbformat_minor": 5
}